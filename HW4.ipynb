{
 "cells": [
  {
   "cell_type": "code",
   "execution_count": 1,
   "metadata": {},
   "outputs": [],
   "source": [
    "%matplotlib inline\n",
    "import matplotlib.pyplot as plt\n",
    "import numpy as np"
   ]
  },
  {
   "cell_type": "markdown",
   "metadata": {},
   "source": [
    "# Guassian Quadrature"
   ]
  },
  {
   "cell_type": "code",
   "execution_count": 247,
   "metadata": {},
   "outputs": [],
   "source": [
    "\"\"\" From \"COMPUTATIONAL PHYSICS\", 3rd Ed, Enlarged Python eTextBook  \n",
    "    by RH Landau, MJ Paez, and CC Bordeianu\n",
    "    Copyright Wiley-VCH Verlag GmbH & Co. KGaA, Berlin;  Copyright R Landau,\n",
    "    Oregon State Unv, MJ Paez, Univ Antioquia, C Bordeianu, Univ Bucharest, 2015.\n",
    "    Support by National Science Foundation\"\"\"\n",
    "\n",
    "# IntegGauss.py: Gaussian quadrature generator of pts & wts\n",
    " \n",
    "from numpy import *\n",
    "from sys import version    \n",
    "\n",
    "w = zeros((2001), float)\n",
    "x = zeros((2001), float)\n",
    "\n",
    "def gauss(npts, job, a, b, x, w): # # a, b are lower and upper bound for the integration, job is three different mapping in the book\n",
    "    m  = i = j = t = t1 = pp = p1 = p2 = p3 = 0.  \n",
    "    eps = 3.E-15                  # Accuracy: Can be Adjusted !\n",
    "    m = int((npts + 1)/2 )\n",
    "    for i in range(1, m + 1):\n",
    "        t = cos(math.pi*(float(i) - 0.25)/(float(npts) + 0.5) ) # initial guess of x_i\n",
    "        t1 = 1 \n",
    "        while( (abs(t - t1) ) >= eps):  # iteration until it converges \n",
    "            p1 = 1. ;  p2 = 0.  \n",
    "            for j in range(1, npts + 1):\n",
    "                p3 = p2;   p2 = p1 \n",
    "                p1 = ((2.*float(j)-1)*t*p2 - (float(j)-1.)*p3)/(float(j)) # Pn using recurrence relation\n",
    "            pp = npts*(t*p1 - p2)/(t*t - 1.)  # derivative using recurrence relation \n",
    "            t1 = t; t = t1  -  p1/pp       # interation to get x_i using Newton-Raphson method\n",
    "        x[i - 1] = - t;   x[npts - i] = t \n",
    "        w[i - 1] = 2./( (1. - t*t)*pp*pp) \n",
    "        w[npts - i] = w[i - 1]  \n",
    "    if (job == 0):\n",
    "        for i in range(0, npts):\n",
    "            x[i] = x[i]*(b - a)/2. + (b + a)/2. \n",
    "            w[i] = w[i]*(b - a)/2. \n",
    "    if (job == 1):\n",
    "        for i in range(0, npts):\n",
    "            xi   = x[i]\n",
    "            x[i] = a*b*(1. + xi) / (b + a - (b - a)*xi) \n",
    "            w[i] = w[i]*2.*a*b*b/( (b + a - (b-a)*xi)*(b + a - (b-a)*xi))\n",
    "    if (job == 2):\n",
    "        for i in range(0, npts):\n",
    "            xi = x[i]\n",
    "            x[i] = (b*xi +  b + a + a) / (1. - xi) \n",
    "            w[i] = w[i]*2.*(a + b)/( (1. - xi)*(1. - xi) )\n",
    "            \n",
    "def gaussint (no, min, max, f):\n",
    "    quadra = 0.  \n",
    "    gauss (no, 0, min, max, x, w)                     # Returns pts & wts\n",
    "    for n in  range(0, no):\n",
    "        quadra   += f(x[n]) * w[n]                   # Calculate integral\n",
    "    return (quadra)                   "
   ]
  },
  {
   "cell_type": "code",
   "execution_count": 248,
   "metadata": {},
   "outputs": [
    {
     "data": {
      "image/png": "[encoded data removed]",
      "text/plain": [
       "<Figure size 432x288 with 1 Axes>"
      ]
     },
     "metadata": {},
     "output_type": "display_data"
    }
   ],
   "source": [
    "narr2=np.array([])\n",
    "yarr3=np.array([])\n",
    "\n",
    "for i in 10**np.arange(0,3,0.1):\n",
    "    y=gaussint(int(i),0,np.pi,np.sin)\n",
    "    narr2=np.append(narr2,int(i))\n",
    "    yarr3=np.append(yarr3,y)\n",
    "plt.plot(narr2, np.abs(yarr3-2.), 'b-', lw=2)   \n",
    "\n",
    "plt.xscale('log')\n",
    "plt.yscale('log')\n",
    "plt.xlabel('N')\n",
    "plt.ylabel('Error')\n",
    "plt.show()"
   ]
  },
  {
   "cell_type": "code",
   "execution_count": 249,
   "metadata": {},
   "outputs": [
    {
     "name": "stdout",
     "output_type": "stream",
     "text": [
      "4.75968715449e-15\n"
     ]
    }
   ],
   "source": [
    "n=8\n",
    "error=pow(3.14,(2*n+1))*pow(np.math.factorial(n),4)/(2*n+1)/pow(np.math.factorial(2*n),3)\n",
    "print(error)"
   ]
  },
  {
   "cell_type": "code",
   "execution_count": 250,
   "metadata": {},
   "outputs": [
    {
     "data": {
      "image/png": "[encoded data removed]",
      "text/plain": [
       "<Figure size 432x288 with 1 Axes>"
      ]
     },
     "metadata": {},
     "output_type": "display_data"
    }
   ],
   "source": [
    "def f13(x):\n",
    "    return pow(x, 13.)\n",
    "\n",
    "narr2=np.array([])\n",
    "yarr3=np.array([])\n",
    "\n",
    "for i in np.arange(1,14):\n",
    "    y=gaussint(int(i),0,1.,f13)\n",
    "    narr2=np.append(narr2,int(i))\n",
    "    yarr3=np.append(yarr3,y)\n",
    "plt.plot(narr2, np.abs(yarr3-1./14.), 'b-', lw=2)   \n",
    "#plt.xscale('log')\n",
    "plt.yscale('log')\n",
    "plt.xlabel('N')\n",
    "plt.ylabel('Error')\n",
    "plt.show()"
   ]
  },
  {
   "cell_type": "markdown",
   "metadata": {},
   "source": [
    "#  2\n",
    "# Homework: using Newton-Raphson method to solve above equation arrays\n",
    "# Hint: first you need to derive the partical derivative of the equation arrays. You can do it either \n",
    "# analytically by hand or numerically using method we learned in the last lecture."
   ]
  },
  {
   "cell_type": "code",
   "execution_count": 9,
   "metadata": {},
   "outputs": [],
   "source": [
    "def f1(x):\n",
    "    return (10.-x*x)/x\n",
    "\n",
    "def f2(x):\n",
    "    return (-1+np.sqrt(1.+4.*3.*x*57))/6./x"
   ]
  },
  {
   "cell_type": "code",
   "execution_count": 16,
   "metadata": {},
   "outputs": [
    {
     "data": {
      "text/plain": [
       "Text(0,0.5,'x2')"
      ]
     },
     "execution_count": 16,
     "metadata": {},
     "output_type": "execute_result"
    },
    {
     "data": {
      "image/png": "[encoded data removed]",
      "text/plain": [
       "<Figure size 432x288 with 1 Axes>"
      ]
     },
     "metadata": {},
     "output_type": "display_data"
    }
   ],
   "source": [
    "xs = np.linspace(1,3)\n",
    "plt.plot(xs, f1(xs))\n",
    "plt.plot(xs, f2(xs))\n",
    "plt.xlabel(\"x1\")\n",
    "plt.ylabel(\"x2\")"
   ]
  },
  {
   "cell_type": "code",
   "execution_count": 3,
   "metadata": {},
   "outputs": [],
   "source": [
    "def f(x):\n",
    "    f0=x[0]*x[0]+x[0]*x[1]-10.\n",
    "    f1=x[1]+3.*x[0]*x[1]*x[1]-57.\n",
    "    return np.array([f0,f1])\n",
    "\n",
    "def dF(x0,dx):\n",
    "    f00, f10 = (f([x0[0]+dx/2.,x0[1]])-f([x0[0]-dx/2.,x0[1]]))/dx\n",
    "    f01, f11 = (f([x0[0],x0[1]+dx/2.])-f([x0[0],x0[1]-dx/2.]))/dx\n",
    "    return np.array([[f00, f01], [f10, f11]])    "
   ]
  },
  {
   "cell_type": "code",
   "execution_count": 216,
   "metadata": {},
   "outputs": [],
   "source": [
    "x0 = [0.1, 0]\n",
    "df = dF(x0, 1e-6)"
   ]
  },
  {
   "cell_type": "code",
   "execution_count": 217,
   "metadata": {},
   "outputs": [
    {
     "data": {
      "text/plain": [
       "array([[0.2, 0.1],\n",
       "       [0. , 1. ]])"
      ]
     },
     "execution_count": 217,
     "metadata": {},
     "output_type": "execute_result"
    }
   ],
   "source": [
    "df"
   ]
  },
  {
   "cell_type": "code",
   "execution_count": 199,
   "metadata": {},
   "outputs": [],
   "source": [
    "f(x0)\n",
    "dfinv = np.linalg.inv(df)\n",
    "dxt = -np.matrix.dot(dfinv, f(x0))\n",
    "x0 = x0+dxt"
   ]
  },
  {
   "cell_type": "code",
   "execution_count": 225,
   "metadata": {},
   "outputs": [],
   "source": [
    "def newtonraphsonbacktracking(x0,dx,Nmax, eps,f):\n",
    "    for i in range(0,Nmax):        \n",
    "        df = dF(x0, dx)\n",
    "        dfinv = np.linalg.inv(df)\n",
    "        dxt = -np.matrix.dot(dfinv, f(x0))\n",
    "        while np.sum(abs(f(x0+dxt)) > abs(f(x0))) > 0:\n",
    "            if abs(f(x0+dxt))[0] > abs(f(x0))[0]:\n",
    "                dxt[0]=dxt[0]/2.\n",
    "            else:\n",
    "                dxt[1]=dxt[1]/2.\n",
    "                      \n",
    "        x0 = x0+dxt\n",
    "        print(x0,dxt,f(x0),df)\n",
    "        if(abs(f(x0)[0])<eps and abs(f(x0)[1])<eps):\n",
    "            print(\"Root is at\",x0,\" after \",i,\" iterations, with a precision of \",abs(f(x0)[0]), abs(f(x0)[1]))\n",
    "            break\n",
    "    return x0"
   ]
  },
  {
   "cell_type": "code",
   "execution_count": 228,
   "metadata": {},
   "outputs": [
    {
     "name": "stdout",
     "output_type": "stream",
     "text": [
      "(array([3.18356495, 2.71244833]), array([-2.81643505, -0.29755167]), array([ 8.77034127, 15.98050098]), array([[ 15.00999998,   6.        ],\n",
      "       [ 27.18029998, 109.36000001]]))\n",
      "(array([2.17608322, 2.83092178]), array([-1.00748173,  0.11847345]), array([ 0.8956596 , -1.85091413]), array([[ 9.07957824,  3.18356496],\n",
      "       [22.07212782, 52.81153268]]))\n",
      "(array([2.00351233, 2.98897289]), array([-0.17257089,  0.1580511 ]), array([ 0.00250569, -0.31313657]), array([[ 7.18308823,  2.17608322],\n",
      "       [24.04235441, 37.9619284 ]]))\n",
      "(array([1.99999489, 3.00000465]), array([-0.00351744,  0.01103177]), array([-2.64311675e-05,  3.43011915e-05]), array([[ 6.99599755,  2.00351233],\n",
      "       [26.80187676, 36.9306642 ]]))\n",
      "(array([2., 3.]), array([ 5.10515582e-06, -4.65245930e-06]), array([ 2.30393482e-12, -2.97596614e-10]), array([[ 6.99999444,  1.9999949 ],\n",
      "       [27.00008374, 36.99996395]]))\n",
      "('Root is at', array([2., 3.]), ' after ', 4, ' iterations, with a precision of ', 2.303934820702125e-12, 2.9759661401840276e-10)\n",
      "[2. 3.]\n"
     ]
    }
   ],
   "source": [
    "roots = newtonraphsonbacktracking([6.,3.01], 1e-6, 750, 1e-6, f)\n",
    "print (roots)"
   ]
  },
  {
   "cell_type": "markdown",
   "metadata": {},
   "source": [
    "# 3 Homework: Use the linalg package, LU decompositin, and GaussSeidel method to solve 2y+z=-8, x-2y-3z=0, -x+y+2z=3"
   ]
  },
  {
   "cell_type": "code",
   "execution_count": 231,
   "metadata": {},
   "outputs": [],
   "source": [
    "A = np.matrix([[0, 2, 1], [1, -2, -3], [-1, 1, 2]])\n",
    "b = np.array([-8, 0, 3])"
   ]
  },
  {
   "cell_type": "code",
   "execution_count": 232,
   "metadata": {},
   "outputs": [
    {
     "data": {
      "text/plain": [
       "array([-4., -5.,  2.])"
      ]
     },
     "execution_count": 232,
     "metadata": {},
     "output_type": "execute_result"
    }
   ],
   "source": [
    "np.linalg.solve(A,b)"
   ]
  },
  {
   "cell_type": "markdown",
   "metadata": {},
   "source": [
    "Now using LUFactor"
   ]
  },
  {
   "cell_type": "code",
   "execution_count": 233,
   "metadata": {},
   "outputs": [],
   "source": [
    "import numpy as np\n",
    "#============================================================================\n",
    "def LUFactor(a, ipivot, n):\n",
    "# Copy right, code from Titus textbook. \n",
    "#----------------------------------------------------------------------------\n",
    "#  Performs LU factorization of (n x n) matrix a (diag(L) = 1). On exit,\n",
    "#  replaces upper triangle and diagonal with U, and lower triangle, with L.\n",
    "#  Uses partial pivoting on columns.\n",
    "#  a      - coefficient matrix (n x n); LU decomposition on exit\n",
    "#  ipivot - array of pivot row indexes (output)\n",
    "#  det    - determinant of coefficient matrix (output).\n",
    "#----------------------------------------------------------------------------\n",
    "   det = 1e0\n",
    "   for j in range(n):                                 # loop over columns\n",
    "      for i in range(j):                             # elements of matrix U\n",
    "         sum = a[i][j]\n",
    "         for k in range(i): sum -= a[i][k]*a[k][j]\n",
    "         a[i][j] = sum\n",
    "\n",
    "      amax = 0e0\n",
    "      for i in range(j,n):                           # elements of matrix L\n",
    "         sum = a[i][j]                                 # undivided by pivot\n",
    "         for k in range(j): sum -= a[i][k]*a[k][j]\n",
    "         a[i][j] = sum\n",
    "                                                            # determine pivot\n",
    "         if (amax < np.fabs(a[i][j])): amax = np.fabs(a[i][j]); imax = i\n",
    "\n",
    "      if (amax == 0e0): print(\"LUFactor: singular matrix !\"); return 0e0\n",
    "\n",
    "      ipivot[j] = imax                                # store pivot row index\n",
    "                                                # interchange rows imax and j\n",
    "      if (imax != j):                           # to put pivot on diagonal\n",
    "         det = -det\n",
    "         for k in range(n):\n",
    "            t = a[imax][k]; a[imax][k] = a[j][k]; a[j][k] = t\n",
    "\n",
    "      det *= a[j][j]                        # multiply determinant with pivot\n",
    "\n",
    "      t = 1e0/a[j][j]                         # divide elements of L by pivot\n",
    "      for i in range(j+1,n): a[i][j] *= t\n",
    "\n",
    "   return det\n",
    "\n",
    "#============================================================================\n",
    "def LUSystem(a, ipivot, b, n):\n",
    "# Copy right, code from Titus textbook. \n",
    "#----------------------------------------------------------------------------\n",
    "#  Solves linear system a x = b of order n by LU factorization.\n",
    "#  a      - LU decomposition of coefficient matrix (returned by LUFactor)\n",
    "#  ipivot - array of pivot row indexes (input)\n",
    "#  b      - vector of constant terms (input); solution x (on exit)\n",
    "#----------------------------------------------------------------------------\n",
    "   for i in range(n):                                     # solves Ly = b\n",
    "      sum = b[int(ipivot[i])]\n",
    "      b[int(ipivot[i])] = b[i]\n",
    "      for j in range(i): sum -= a[i][j]*b[j]\n",
    "      b[i] = sum\n",
    "\n",
    "   for i in range(n-1,-1,-1):                                    # solves Ux = y\n",
    "      sum = b[i]\n",
    "      for j in range(i+1,n): sum -= a[i][j]*b[j]\n",
    "      b[i] = sum/a[i][i]\n"
   ]
  },
  {
   "cell_type": "code",
   "execution_count": 238,
   "metadata": {},
   "outputs": [
    {
     "name": "stdout",
     "output_type": "stream",
     "text": [
      "[-4 -5  2]\n",
      "[0. 0. 0.]\n"
     ]
    }
   ],
   "source": [
    "a = np.array([[0., 2., 1], [1, -2, -3], [-1, 1, 2]])\n",
    "b = np.array([-8, 0, 3])\n",
    "\n",
    "#a=np.array([[9.,13.,5.,2.],[1.,11.,7.,6.],[3.,7.,4.,1.],[6.,1.,7.,10.]])\n",
    "#b=np.array([7.,8.,9.,10.])\n",
    "aa=np.copy(a)    #deep copy of an array\n",
    "bb=np.copy(b)    #deep copy of an array\n",
    "ipivot=np.zeros(3)\n",
    "de=LUFactor(a,ipivot,3)\n",
    "LUSystem(a,ipivot,b,3)\n",
    "print(b)"
   ]
  },
  {
   "cell_type": "code",
   "execution_count": 240,
   "metadata": {},
   "outputs": [],
   "source": [
    "\n",
    "#============================================================================\n",
    "def GaussSeidel(a, b, x, n, init):\n",
    "# Copy right, code from Titus textbook. \n",
    "#----------------------------------------------------------------------------\n",
    "#  Solves linear system a x = b by the Gauss-Seidel method.\n",
    "#  Convergence is ensure by left-multiplying the system with a^T.\n",
    "#  a    - coefficient matrix (n x n)\n",
    "#  b    - vector of constant terms\n",
    "#  x    - initial approximation of solution (input); solution (output)\n",
    "#  n    - order of system\n",
    "#  err  - maximum relative error of the solution components\n",
    "#  init - initialization option: 0 - refines initial approximation \n",
    "#                                1 - initializes solution\n",
    "#----------------------------------------------------------------------------\n",
    "   eps = 1e-15                                 # relative precision criterion\n",
    "   itmax = 10000                                    # max no. of iterations\n",
    "\n",
    "   s = [[0]*(n) for i in range(n)]           # matrices of reduced system\n",
    "   t = [0]*(n)\n",
    "\n",
    "   for i in range(n):                         # matrices of normal system\n",
    "      for j in range(i+1):                      # by multiplication with aT\n",
    "         s[i][j] = 0e0                            # store result in s and t\n",
    "         for k in range(n): s[i][j] += a[k][i]*a[k][j]\n",
    "         s[j][i] = s[i][j]\n",
    "\n",
    "      t[i] = 0e0\n",
    "      for j in range(n): t[i] += a[j][i]*b[j]\n",
    "\n",
    "   for i in range(n):                # matrices s and t of reduced system\n",
    "      f = -1e0/s[i][i]; t[i] /= s[i][i]\n",
    "      for j in range(n): s[i][j] *= f\n",
    "\n",
    "   if (init):\n",
    "      for i in range(n): x[i] = t[i]                # initialize solution\n",
    "\n",
    "   for k in range(itmax):                            # loop of iterations\n",
    "      err = 0e0\n",
    "      for i in range(n):\n",
    "         delta = t[i]                                            # correction\n",
    "         for j in range(n): delta += s[i][j]*x[j]\n",
    "         x[i] += delta                        # new approximation to solution\n",
    "         if (x[i]): delta /= x[i]                            # relative error\n",
    "         if (np.fabs(delta) > err): err = np.fabs(delta)            # maximum error\n",
    "       #  print('delta,err',delta,err)\n",
    "            \n",
    "      if (err <= eps): break                              # check convergence\n",
    "\n",
    "   if (k > itmax-2): print(\"GaussSeidel: max. no. of iterations exceeded !\")\n",
    "\n",
    "   return err"
   ]
  },
  {
   "cell_type": "code",
   "execution_count": 245,
   "metadata": {},
   "outputs": [
    {
     "name": "stdout",
     "output_type": "stream",
     "text": [
      "('x=', array([-4., -5.,  2.]))\n",
      "[3.37507799e-14 5.15143483e-14 5.81756865e-14]\n"
     ]
    }
   ],
   "source": [
    "import numpy as np\n",
    "a = np.array([[0., 2., 1], [1, -2, -3], [-1, 1, 2]])\n",
    "b = np.array([-8, 0, 3])\n",
    "x=np.array([1.,1.,1.])\n",
    "\n",
    "GaussSeidel(a, b, x, 3, 1)\n",
    "print('x=',x)\n",
    "print(np.dot(a,x)-b)"
   ]
  },
  {
   "cell_type": "markdown",
   "metadata": {},
   "source": [
    "# 4 Homework for graduate students:\n",
    "# Solve equation array dx/dt=x-(1/8)y, dy/dt=-2x+y.  Write down the analytical solution \n",
    "# (coefficients can be floating point numbers)\n",
    "# Hint: first use linalg to get the eigenvalue and eigenvector for [[1,-1/3],[-2,1]] array"
   ]
  },
  {
   "cell_type": "code",
   "execution_count": 252,
   "metadata": {},
   "outputs": [],
   "source": [
    "A = np.matrix([[ 1. ,   -0.125],\n",
    " [-2.  ,   1.   ]])\n",
    "\n",
    "eigenvalues, eigenvectors = np.linalg.eig(A)"
   ]
  },
  {
   "cell_type": "code",
   "execution_count": 253,
   "metadata": {},
   "outputs": [
    {
     "name": "stdout",
     "output_type": "stream",
     "text": [
      "[1.5 0.5]\n",
      "(matrix([[ 0.24253563, -0.9701425 ]]), matrix([[0.24253563, 0.9701425 ]]))\n"
     ]
    }
   ],
   "source": [
    "print (eigenvalues)\n",
    "print (eigenvectors.T[0], eigenvectors.T[1])"
   ]
  },
  {
   "cell_type": "markdown",
   "metadata": {},
   "source": [
    "\\begin{equation}\n",
    "\\begin{bmatrix} dx \\\\ dy \\end{bmatrix} \n",
    "=\\begin{bmatrix} 1 & -1/8  \\\\ -2 & 1 \\end{bmatrix}\n",
    "\\begin{bmatrix} x \\\\ y \\end{bmatrix} \n",
    "\\end{equation} \n",
    "\n",
    "\\begin{equation}\n",
    "\\begin{vmatrix} 1-\\lambda & -1/8  \\\\ -2 & 1 -\\lambda \\end{vmatrix} = 0\n",
    "\\end{equation} \n",
    "\n",
    "$\\lambda = 1/2, 3/2$\n",
    "\n",
    "\\begin{equation}\n",
    "\\begin{bmatrix} 1/2 & -1/8  \\\\ -2 & 1/2 \\end{bmatrix} \\begin{bmatrix} A \\\\ B \\end{bmatrix}  = 0\n",
    "\\end{equation} \n",
    "\n",
    "or \n",
    "\n",
    "\\begin{equation}\n",
    "\\begin{bmatrix} -1/2 & -1/8  \\\\ -2 & -1/2 \\end{bmatrix} \\begin{bmatrix} A \\\\ B \\end{bmatrix} = 0\n",
    "\\end{equation} \n",
    "\n",
    "so the eigenvalues can be (1,4) for 1/2 and  (1,-4) for 3/2\n",
    "\n",
    "So \\begin{equation}\n",
    "\\begin{bmatrix} x \\\\ y \\end{bmatrix} \n",
    "= \\alpha \\begin{bmatrix} 1 \\\\ 4 \\end{bmatrix} e^{\\frac{1}{2}x} + \\beta \\begin{bmatrix} 1 \\\\ -4 \\end{bmatrix} e^{\\frac{3}{2}x} \n",
    "\\end{equation} "
   ]
  }
 ],
 "metadata": {
  "kernelspec": {
   "display_name": "Python 2",
   "language": "python",
   "name": "python2"
  },
  "language_info": {
   "codemirror_mode": {
    "name": "ipython",
    "version": 2
   },
   "file_extension": ".py",
   "mimetype": "text/x-python",
   "name": "python",
   "nbconvert_exporter": "python",
   "pygments_lexer": "ipython2",
   "version": "2.7.15"
  }
 },
 "nbformat": 4,
 "nbformat_minor": 2
}
