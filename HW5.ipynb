{
 "cells": [
  {
   "cell_type": "code",
   "execution_count": 1,
   "metadata": {},
   "outputs": [],
   "source": [
    "%matplotlib inline\n",
    "import matplotlib.pyplot as plt\n",
    "import numpy as np"
   ]
  },
  {
   "cell_type": "code",
   "execution_count": null,
   "metadata": {},
   "outputs": [],
   "source": [
    "# Homework:\n",
    "# Write your own leapfrog scheme to calculate the orbit of two equal mass binary.\n",
    "# The mass of each binary makes GM_{i}=1, (i is 1 or 2). The two binary stars are\n",
    "# seperated by a distance of 1 initially. Initialize the binary velocity so that\n",
    "# each binary star will have an eccentricity of 0.5. Evolve this system to 100\n",
    "# binary orbits, and plot their orbits in the x-y plane. (Hint: both stars will drift\n",
    "# together first, and then being kicked at the middle step at the same time, \n",
    "# and then drfit again)"
   ]
  },
  {
   "cell_type": "code",
   "execution_count": null,
   "metadata": {},
   "outputs": [],
   "source": [
    "# There are series of situation that meet the requirement separation = 1 and e=0.5\n",
    "# But to be simple, I only consider two simple situations (so the the velocity is percendicular to the y-axis)\n",
    "# The first is that the stars start at perigee (it has highest velocity within its orbit)\n",
    "# It's also the highest initial velocity among all the solution.\n",
    "# The second is that the stars start at agogee (it has lowest velocity within its orbit)\n",
    "# It's also the lowest initial velocity among all the solution.\n",
    "# https://en.wikipedia.org/wiki/Orbit_equation\n",
    "\n",
    "# Blue represents star 1 that starts at (0.5,0); Orange represents star 2 that starts at (-0.5,0)"
   ]
  },
  {
   "cell_type": "code",
   "execution_count": 2,
   "metadata": {},
   "outputs": [
    {
     "data": {
      "text/plain": [
       "<matplotlib.collections.LineCollection at 0x7ffbb77c46d0>"
      ]
     },
     "execution_count": 2,
     "metadata": {},
     "output_type": "execute_result"
    },
    {
     "data": {
      "image/png": "[encoded data removed]",
      "text/plain": [
       "<Figure size 432x288 with 1 Axes>"
      ]
     },
     "metadata": {},
     "output_type": "display_data"
    }
   ],
   "source": [
    "import numpy as np\n",
    "import matplotlib.pyplot as plt\n",
    "\n",
    "G=1.\n",
    "M1=1.\n",
    "M2=1.\n",
    "tend=2.*np.pi*100\n",
    "h=0.01\n",
    "a=0.5\n",
    "vi=  np.sqrt(0.75)\n",
    "y=[a,0.,0.,vi, -a, 0., 0, -vi]\n",
    "t=0\n",
    "\n",
    "def f(t, y):\n",
    "    f=np.zeros(8)\n",
    "    r=np.sqrt((y[0]-y[4])**2+(y[2]-y[6])**2)\n",
    "  \n",
    "    \n",
    "    f[0]=y[1]\n",
    "    f[1]=G*M2/r/r/r*(y[4]-y[0])\n",
    "    f[2]=y[3]\n",
    "    f[3]=G*M2/r/r/r*(y[6]-y[2])\n",
    "    \n",
    "    f[4]=y[5]\n",
    "    f[5]=G*M1/r/r/r*(y[0]-y[4])\n",
    "    f[6]=y[7]\n",
    "    f[7]=G*M1/r/r/r*(y[2]-y[6])\n",
    "    \n",
    "    return f\n",
    "    \n",
    "def lf(t, h, y, n):\n",
    "    # drift step\n",
    "    fv=f(t, y)\n",
    "    for i in [0,2, 4, 6]:\n",
    "        y[i]+=fv[i]*h/2.\n",
    "    # Please finish kick and drift step\n",
    "    fv=f(t+h/2., y)\n",
    "    for i in [1,3, 5, 7]:\n",
    "        y[i]+=fv[i]*h\n",
    "        \n",
    "    # kick step\n",
    "    for i in [0,2, 4, 6]:\n",
    "        y[i]+=y[i+1]*h/2.\n",
    "    # drift step\n",
    "    \n",
    "    return y\n",
    "\n",
    "xp1=[]\n",
    "yp1=[]\n",
    "\n",
    "xp2=[]\n",
    "yp2=[]\n",
    "\n",
    "ta=[]\n",
    "while(t<tend):\n",
    "    if((t+h)>tend):\n",
    "        h=tend-t\n",
    "    y = lf(t,h,y,8)\n",
    "    xp1=np.append(xp1,y[0])\n",
    "    yp1=np.append(yp1,y[2])\n",
    "    xp2=np.append(xp2,y[4])\n",
    "    yp2=np.append(yp2,y[6])\n",
    "    ta=np.append(ta,t)\n",
    "    t = t+h\n",
    "\n",
    "plt.plot(xp1,yp1)\n",
    "plt.plot(xp2,yp2)\n",
    "plt.axis('scaled')\n",
    "\n",
    "plt.hlines(0,0, -1-0.5, linestyle='--')\n",
    "plt.plot(0,0,'x')\n",
    "plt.hlines(0,0, 0.5, linestyle='--')\n",
    "\n",
    "\n",
    "\n",
    "#plt.xlim(-2,2)\n",
    "#plt.ylim(-2,2)"
   ]
  },
  {
   "cell_type": "code",
   "execution_count": 3,
   "metadata": {},
   "outputs": [
    {
     "data": {
      "text/plain": [
       "<matplotlib.collections.LineCollection at 0x7ffbb4066a50>"
      ]
     },
     "execution_count": 3,
     "metadata": {},
     "output_type": "execute_result"
    },
    {
     "data": {
      "image/png": "[encoded data removed]",
      "text/plain": [
       "<Figure size 432x288 with 1 Axes>"
      ]
     },
     "metadata": {},
     "output_type": "display_data"
    }
   ],
   "source": [
    "import numpy as np\n",
    "import matplotlib.pyplot as plt\n",
    "\n",
    "G=1.\n",
    "M1=1.\n",
    "M2=1.\n",
    "tend=2.*np.pi* 100\n",
    "h=0.002\n",
    "\n",
    "vi=  np.sqrt(1./3.) * np.sqrt(0.75)\n",
    "y=[0.5,0.,0.,vi, -0.5, 0., 0, -vi]\n",
    "t=0\n",
    "\n",
    "def f(t, y):\n",
    "    f=np.zeros(8)\n",
    "    r=np.sqrt((y[0]-y[4])**2+(y[2]-y[6])**2)\n",
    "  \n",
    "    \n",
    "    f[0]=y[1]\n",
    "    f[1]=G*M2/r/r/r*(y[4]-y[0])\n",
    "    f[2]=y[3]\n",
    "    f[3]=G*M2/r/r/r*(y[6]-y[2])\n",
    "    \n",
    "    f[4]=y[5]\n",
    "    f[5]=G*M1/r/r/r*(y[0]-y[4])\n",
    "    f[6]=y[7]\n",
    "    f[7]=G*M1/r/r/r*(y[2]-y[6])\n",
    "    \n",
    "    return f\n",
    "    \n",
    "def lf(t, h, y, n):\n",
    "    # drift step\n",
    "    fv=f(t, y)\n",
    "    for i in [0,2, 4, 6]:\n",
    "        y[i]+=fv[i]*h/2.\n",
    "    # Please finish kick and drift step\n",
    "    fv=f(t+h/2., y)\n",
    "    for i in [1,3, 5, 7]:\n",
    "        y[i]+=fv[i]*h\n",
    "        \n",
    "    # kick step\n",
    "    for i in [0,2, 4, 6]:\n",
    "        y[i]+=y[i+1]*h/2.\n",
    "    # drift step\n",
    "    \n",
    "    return y\n",
    "\n",
    "xp1=[]\n",
    "yp1=[]\n",
    "\n",
    "xp2=[]\n",
    "yp2=[]\n",
    "\n",
    "ta=[]\n",
    "while(t<tend):\n",
    "    if((t+h)>tend):\n",
    "        h=tend-t\n",
    "    y = lf(t,h,y,8)\n",
    "    xp1=np.append(xp1,y[0])\n",
    "    yp1=np.append(yp1,y[2])\n",
    "    xp2=np.append(xp2,y[4])\n",
    "    yp2=np.append(yp2,y[6])\n",
    "    ta=np.append(ta,t)\n",
    "    t = t+h\n",
    "\n",
    "plt.plot(xp1,yp1)\n",
    "plt.plot(xp2,yp2)\n",
    "plt.axis('scaled')\n",
    "\n",
    "plt.hlines(0,0, -0.5, linestyle='--')\n",
    "plt.plot(0,0,'x')\n",
    "plt.hlines(0,0, 1./6., linestyle='--')\n",
    "\n",
    "\n",
    "\n",
    "#plt.xlim(-2,2)\n",
    "#plt.ylim(-2,2)"
   ]
  }
 ],
 "metadata": {
  "kernelspec": {
   "display_name": "Python 2",
   "language": "python",
   "name": "python2"
  },
  "language_info": {
   "codemirror_mode": {
    "name": "ipython",
    "version": 2
   },
   "file_extension": ".py",
   "mimetype": "text/x-python",
   "name": "python",
   "nbconvert_exporter": "python",
   "pygments_lexer": "ipython2",
   "version": "2.7.15"
  }
 },
 "nbformat": 4,
 "nbformat_minor": 2
}
